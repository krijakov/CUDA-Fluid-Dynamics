{
 "cells": [
  {
   "cell_type": "markdown",
   "id": "48116664",
   "metadata": {},
   "source": [
    "# Manual tests"
   ]
  },
  {
   "cell_type": "code",
   "execution_count": 1,
   "id": "9c9cebca",
   "metadata": {},
   "outputs": [],
   "source": [
    "import pyfluid"
   ]
  },
  {
   "cell_type": "code",
   "execution_count": 4,
   "id": "251faed6",
   "metadata": {},
   "outputs": [],
   "source": [
    "particles = [pyfluid.Particle()]\n",
    "particles[0].posx = 0.0\n",
    "particles[0].posy = 0.0\n",
    "particles[0].posz = 0.0\n",
    "particles[0].vx = 1.0\n",
    "particles[0].vy = 0.0\n",
    "particles[0].vz = 0.0\n",
    "particles[0].mass = 1.0\n",
    "particles[0].mesh_id = 1\n",
    "\n",
    "meshes = [pyfluid.MeshTile()]\n",
    "meshes[0].id = 1\n",
    "meshes[0].posx = 0.0\n",
    "meshes[0].posy = 0.0\n",
    "meshes[0].posz = 0.0"
   ]
  },
  {
   "cell_type": "code",
   "execution_count": 7,
   "id": "d1f1ba32",
   "metadata": {},
   "outputs": [],
   "source": [
    "x,v = pyfluid.simulate_step(particles, meshes, 1, 1, 0.1)"
   ]
  },
  {
   "cell_type": "code",
   "execution_count": 9,
   "id": "45818c01",
   "metadata": {},
   "outputs": [
    {
     "data": {
      "text/plain": [
       "(0.10000000149011612, 0.0, 0.0)"
      ]
     },
     "execution_count": 9,
     "metadata": {},
     "output_type": "execute_result"
    }
   ],
   "source": [
    "x[0].posx, x[0].posy, x[0].posz"
   ]
  },
  {
   "cell_type": "code",
   "execution_count": null,
   "id": "63b2ee8d",
   "metadata": {},
   "outputs": [],
   "source": []
  }
 ],
 "metadata": {
  "kernelspec": {
   "display_name": "cuda-env",
   "language": "python",
   "name": "python3"
  },
  "language_info": {
   "codemirror_mode": {
    "name": "ipython",
    "version": 3
   },
   "file_extension": ".py",
   "mimetype": "text/x-python",
   "name": "python",
   "nbconvert_exporter": "python",
   "pygments_lexer": "ipython3",
   "version": "3.12.3"
  }
 },
 "nbformat": 4,
 "nbformat_minor": 5
}
